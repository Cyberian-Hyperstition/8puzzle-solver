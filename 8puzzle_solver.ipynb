{
  "cells": [
    {
      "cell_type": "code",
      "source": [
        "!pip install heapdict\n",
        "import heapdict as hd\n",
        "import copy\n",
        "import numpy as np"
      ],
      "metadata": {
        "id": "QPj2iPvtICzY",
        "colab": {
          "base_uri": "https://localhost:8080/"
        },
        "outputId": "02af8a73-1fce-4e71-dc24-e2bbfbabc802"
      },
      "execution_count": null,
      "outputs": [
        {
          "output_type": "stream",
          "name": "stdout",
          "text": [
            "Collecting heapdict\n",
            "  Downloading HeapDict-1.0.1-py3-none-any.whl (3.9 kB)\n",
            "Installing collected packages: heapdict\n",
            "Successfully installed heapdict-1.0.1\n"
          ]
        }
      ]
    },
    {
      "cell_type": "markdown",
      "metadata": {
        "id": "SS7t7idlwLnW"
      },
      "source": [
        "### A* Search\n",
        "\n",
        "This is an implementation of the $A^*$ graph search algorithm to discover the series of moves that transform a moving tile puzzle from an initial state into a desired goal state. For example, for a 3 × 3 puzzle, given the following initial state:\n",
        "\n",
        "|   |   |   |\n",
        "|---|---|---|\n",
        "| 1 | 2 | 3 |\n",
        "| 4 |   | 6 |\n",
        "| 7 | 5 | 8 |\n",
        "\n",
        "and the following goal:\n",
        "\n",
        "|   |   |   |\n",
        "|---|---|---|\n",
        "| 1 | 2 | 3 |\n",
        "| 4 | 5 | 6 |\n",
        "| 7 | 8 |   |\n",
        "\n"
      ]
    },
    {
      "cell_type": "markdown",
      "metadata": {
        "id": "AQIzVpSEwLnY"
      },
      "source": [
        "#### Implementing Heuristics\n"
      ]
    },
    {
      "cell_type": "markdown",
      "metadata": {
        "id": "clyflXFLwLnZ"
      },
      "source": [
        "#### The number of misplaced tiles.\n",
        "In the example above, there are two misplaced tiles, 5 and 8."
      ]
    },
    {
      "cell_type": "code",
      "execution_count": null,
      "metadata": {
        "id": "XkDg2EEIwLnZ"
      },
      "outputs": [],
      "source": [
        "def heuristic_misplaced(state):\n",
        "    \"\"\"\n",
        "    The number of misplaced tiles.\n",
        "    The blank space is not tile and should\n",
        "    not be included in your misplaced tile count.\n",
        "\n",
        "    :param state: A tuple of the flattened board.\n",
        "    :return: The number of misplaced tiles.\n",
        "    \"\"\"\n",
        "    if (type(state) is str):\n",
        "      return np.Inf\n",
        "\n",
        "    correct = [1, 2, 3, 4, 5, 6, 7, 8, 9]\n",
        "    state_arr = np.array(list(state))\n",
        "    wrongs = state_arr + [0,0,0,0,0,0,0,0,9] - correct\n",
        "    wrong_count = max(np.count_nonzero(wrongs), 0)\n",
        "    if(wrongs[-1]!=0):\n",
        "      wrong_count-=1\n",
        "\n",
        "    return wrong_count"
      ]
    },
    {
      "cell_type": "code",
      "source": [
        "def test_heuristic_misplaced():\n",
        "    res = []\n",
        "    test_cases = [\n",
        "    ((1, 2, 3, 4, 0, 6, 7, 5, 8), 2),\n",
        "    ((1, 2, 3, 4, 5, 6, 7, 8, 0), 0),\n",
        "    ((1, 2, 3, 4, 5, 6, 7, 0, 8), 1),\n",
        "    ((1, 2, 3, 4, 5, 6, 0, 7, 8), 2),\n",
        "    ((1, 2, 3, 4, 0, 5, 7, 8, 6), 2),\n",
        "]\n",
        "\n",
        "\n",
        "\n",
        "    for i, (state, expected_value) in enumerate(test_cases):\n",
        "        actual_value = heuristic_misplaced(state)\n",
        "        assert actual_value == expected_value, f\"Test case for state {state} failed: \" \\\n",
        "                                               f\"heuristic_misplaced returned {actual_value}, \" \\\n",
        "                                               f\"expected {expected_value}\"\n",
        "\n",
        "    print(\"All test cases for heuristic_misplaced passed!\")\n",
        "\n",
        "test_heuristic_misplaced()"
      ],
      "metadata": {
        "id": "gqY3zK9OxqBZ",
        "colab": {
          "base_uri": "https://localhost:8080/"
        },
        "outputId": "aaa3abbd-251a-4e46-e7f6-c7d95f21b939"
      },
      "execution_count": null,
      "outputs": [
        {
          "output_type": "stream",
          "name": "stdout",
          "text": [
            "All test cases for heuristic_misplaced passed!\n"
          ]
        }
      ]
    },
    {
      "cell_type": "markdown",
      "metadata": {
        "id": "jWLldacvwLna"
      },
      "source": [
        "#### The sum of the Manhattan distances from the misplaced tiles to their correct positions.\n",
        "\n",
        "In the example above, the distances from the misplaced tiles 5 and 8 to their correct positions are both 1, so the summed Manhattan distance is 2."
      ]
    },
    {
      "cell_type": "code",
      "execution_count": null,
      "metadata": {
        "id": "CtcUzt29wLna"
      },
      "outputs": [],
      "source": [
        "def heuristic_manhattan(state):\n",
        "    \"\"\"\n",
        "    The sum of the Manhattan distances from the\n",
        "    misplaced tiles to their correct positions.*\n",
        "\n",
        "    :param state: A tuple of the flattened board.\n",
        "    :return: The summed manhattan distances.\n",
        "    \"\"\"\n",
        "    if (type(state) is str):\n",
        "      return np.Inf\n",
        "\n",
        "    state_arr = list(state)\n",
        "    sum = 0\n",
        "    for j in range(len(state_arr)):\n",
        "      if j+1 == state_arr[j] or state_arr[j]==0:\n",
        "        pass\n",
        "      else:\n",
        "        row_diff = abs(j+1-state_arr[j]) // 3\n",
        "        col_diff = abs(j+1-state_arr[j]) % 3\n",
        "        sum += (row_diff)+(col_diff)\n",
        "    return sum"
      ]
    },
    {
      "cell_type": "code",
      "source": [
        "def test_heuristic_manhattan():\n",
        "    res = []\n",
        "    test_cases = [\n",
        "        ((1, 2, 3, 4, 0, 6, 7, 5, 8), 2),\n",
        "        ((1, 2, 3, 4, 5, 6, 7, 8, 0), 0),\n",
        "        ((1, 2, 3, 4, 5, 6, 0, 7, 8), 2),\n",
        "        ((1, 2, 3, 4, 6, 0, 7, 5, 8), 3),\n",
        "        ((1, 3, 0, 4, 2, 5, 7, 8, 6), 4)\n",
        "    ]\n",
        "\n",
        "    for state, expected_value in test_cases:\n",
        "        actual_value = heuristic_manhattan(state)\n",
        "        assert actual_value == expected_value, f\"Test case for state {state} failed: \" \\\n",
        "                                               f\"heuristic_manhattan returned {actual_value}, \" \\\n",
        "                                               f\"expected {expected_value}\"\n",
        "\n",
        "    print(\"All test cases for heuristic_manhattan passed!\")\n",
        "\n",
        "test_heuristic_manhattan()"
      ],
      "metadata": {
        "id": "qGnkeCpC1sJm",
        "colab": {
          "base_uri": "https://localhost:8080/"
        },
        "outputId": "2c5ce422-7319-4faf-8619-3576777c8972"
      },
      "execution_count": null,
      "outputs": [
        {
          "output_type": "stream",
          "name": "stdout",
          "text": [
            "All test cases for heuristic_manhattan passed!\n"
          ]
        }
      ]
    },
    {
      "cell_type": "markdown",
      "metadata": {
        "id": "KmgHU4pzwLna"
      },
      "source": [
        "##### Implementation of A* search"
      ]
    },
    {
      "cell_type": "code",
      "source": [
        "def get_moves(state, direction):\n",
        "  state_dummy = copy.deepcopy(state)\n",
        "  if direction == 'r':\n",
        "    if state_dummy.index(0)%3 == 2:\n",
        "      return 'impossible'\n",
        "    else:\n",
        "      i = state_dummy.index(0)\n",
        "      state_dummy[i] = state_dummy[i+1]\n",
        "      state_dummy[i+1] = 0\n",
        "      return state_dummy\n",
        "  if direction == 'l':\n",
        "    if state_dummy.index(0)%3 == 0:\n",
        "      return 'impossible'\n",
        "    else:\n",
        "      i = state_dummy.index(0)\n",
        "      state_dummy[i] = state_dummy[i-1]\n",
        "      state_dummy[i-1] = 0\n",
        "      return state_dummy\n",
        "  if direction == 'u':\n",
        "    if state_dummy.index(0)//3 == 0:\n",
        "      return 'impossible'\n",
        "    else:\n",
        "      i = state_dummy.index(0)\n",
        "      state_dummy[i] = state_dummy[i-3]\n",
        "      state_dummy[i-3] = 0\n",
        "      return state_dummy\n",
        "  if direction == 'd':\n",
        "    if state.index(0)//3 == 2:\n",
        "      return 'impossible'\n",
        "    else:\n",
        "      i = state_dummy.index(0)\n",
        "      state_dummy[i] = state_dummy[i+3]\n",
        "      state_dummy[i+3] = 0\n",
        "      return state_dummy\n",
        "\n",
        "def isSolvable(arr):\n",
        "    inv_count = 0\n",
        "    empty_value = 0\n",
        "    for i in range(0, 9):\n",
        "        for j in range(i + 1, 9):\n",
        "            if arr[j] != empty_value and arr[i] != empty_value and arr[i] > arr[j]:\n",
        "                inv_count += 1\n",
        "    return inv_count % 2 == 0"
      ],
      "metadata": {
        "id": "8uEYG9aazgVG"
      },
      "execution_count": null,
      "outputs": []
    },
    {
      "cell_type": "code",
      "execution_count": null,
      "metadata": {
        "id": "OlTBz634wLnb"
      },
      "outputs": [],
      "source": [
        "def astar(init_state, heuristic):\n",
        "    \"\"\"\n",
        "    A^* implementation.\n",
        "\n",
        "    :param init_state: A tuple of the flattened board.\n",
        "    :param heuristic: The heuristic function\n",
        "    :return: A tuple where:\n",
        "        The first element is a string representing the optimal path.\n",
        "            Use the characters 'r', 'l', 'u', and 'd' for\n",
        "            'right', 'left', 'up', and 'down' directions, respectively.\n",
        "        The second element is a list that contains states in the\n",
        "            in order they were visited by your algorithm.\n",
        "    \"\"\"\n",
        "    if not isSolvable(init_state):\n",
        "      return('Not Solvable')\n",
        "\n",
        "    path = []\n",
        "    nodes = []\n",
        "    target_state = [1, 2, 3, 4, 5, 6, 7, 8, 0]\n",
        "    state = copy.deepcopy(list(init_state))\n",
        "    states_visited = dict([('', state)])\n",
        "    h = hd.heapdict()\n",
        "    if state == target_state:\n",
        "      path = ['']\n",
        "      return path[0], [init_state]\n",
        "    while(state != target_state):\n",
        "      if len(path)==0:\n",
        "        h['u'] = (heuristic(get_moves(state, 'u'))+len(path), get_moves(state, 'u'))\n",
        "        h['d'] = (heuristic(get_moves(state, 'd'))+len(path), get_moves(state, 'd'))\n",
        "        h['r'] = (heuristic(get_moves(state, 'r'))+len(path), get_moves(state, 'r'))\n",
        "        h['l'] = (heuristic(get_moves(state, 'l'))+len(path), get_moves(state, 'l'))\n",
        "      else:\n",
        "        h[path+'u'] = (heuristic(get_moves(states_visited[path], 'u'))+len(path), get_moves(states_visited[path], 'u'))\n",
        "        h[path+'d'] = (heuristic(get_moves(states_visited[path], 'd'))+len(path), get_moves(states_visited[path], 'd'))\n",
        "        h[path+'r'] = (heuristic(get_moves(states_visited[path], 'r'))+len(path), get_moves(states_visited[path], 'r'))\n",
        "        h[path+'l'] = (heuristic(get_moves(states_visited[path], 'l'))+len(path), get_moves(states_visited[path], 'l'))\n",
        "\n",
        "      while True:\n",
        "        best_dir = h.popitem()\n",
        "\n",
        "        if best_dir[1][1] not in states_visited.values():\n",
        "          states_visited.update({best_dir[0]: best_dir[1][1]})\n",
        "          move = best_dir[1][1]\n",
        "          path = best_dir[0]\n",
        "          state = move\n",
        "          break\n",
        "    return path, [tuple(state) for state in states_visited.values()]"
      ]
    },
    {
      "cell_type": "code",
      "source": [
        "def test_astar(heuristic):\n",
        "    test_cases = [\n",
        "            ((1, 2, 3, 4, 5, 6, 7, 8, 0), \"\", [(1, 2, 3, 4, 5, 6, 7, 8, 0)]),\n",
        "            ((1, 2, 3, 4, 5, 6, 0, 7, 8), \"rr\", [(1, 2, 3, 4, 5, 6, 0, 7, 8),\n",
        "                                                (1, 2, 3, 4, 5, 6, 7, 0, 8),\n",
        "                                                (1, 2, 3, 4, 5, 6, 7, 8, 0)]),\n",
        "            ((1, 2, 3, 4, 6, 0, 7, 5, 8), \"ldr\", [(1, 2, 3, 4, 6, 0, 7, 5, 8),\n",
        "                                                (1, 2, 3, 4, 0, 6, 7, 5, 8),\n",
        "                                                (1, 2, 3, 4, 5, 6, 7, 0, 8),\n",
        "                                                (1, 2, 3, 4, 5, 6, 7, 8, 0)]),\n",
        "            ((1, 3, 0, 4, 2, 5, 7, 8, 6), \"ldrd\", [(1, 3, 0, 4, 2, 5, 7, 8, 6),\n",
        "                                                (1, 0, 3, 4, 2, 5, 7, 8, 6),\n",
        "                                                (1, 2, 3, 4, 0, 5, 7, 8, 6),\n",
        "                                                (1, 2, 3, 4, 5, 0, 7, 8, 6),\n",
        "                                                (1, 2, 3, 4, 5, 6, 7, 8, 0)]),\n",
        "        ]\n",
        "\n",
        "    for test in test_cases:\n",
        "        state, actual_path, actual_states = test[0], test[1], test[2]\n",
        "        path, states = astar(test[0], heuristic)\n",
        "        assert path == actual_path and states == actual_states, f\"Test case for state {state} failed: \" \\\n",
        "                                                                f\"astar returned {path}, {states}, \" \\\n",
        "                                                                    f\"expected {actual_path, actual_states}\"\n",
        "    print(\"All test cases for test_astar passed!\")\n",
        "\n",
        "test_astar(heuristic_misplaced)"
      ],
      "metadata": {
        "id": "CxMq1njV29_G",
        "colab": {
          "base_uri": "https://localhost:8080/"
        },
        "outputId": "229bf475-6558-4d06-b2e9-897b0fedc59f"
      },
      "execution_count": null,
      "outputs": [
        {
          "output_type": "stream",
          "name": "stdout",
          "text": [
            "All test cases for test_astar passed!\n"
          ]
        }
      ]
    },
    {
      "cell_type": "markdown",
      "source": [
        "#### Check number of nodes opened with different heuristics\n",
        "\n",
        "Let's now compare the efficienty of different heuristics on different starting states."
      ],
      "metadata": {
        "id": "Bor1YfHc2s2G"
      }
    },
    {
      "cell_type": "code",
      "source": [
        "def generate_testcases(number):\n",
        "  cases = []\n",
        "  while len(cases) != number:\n",
        "    test_seq = np.arange(0, 9)\n",
        "    np.random.shuffle(test_seq)\n",
        "    if isSolvable(test_seq):\n",
        "      cases.append(test_seq)\n",
        "  return cases"
      ],
      "metadata": {
        "id": "MR54Jk2oNmaA"
      },
      "execution_count": null,
      "outputs": []
    },
    {
      "cell_type": "code",
      "source": [
        "meow = generate_testcases(10)\n",
        "meow"
      ],
      "metadata": {
        "colab": {
          "base_uri": "https://localhost:8080/"
        },
        "id": "D-vLYboNN-Mj",
        "outputId": "1973a017-aa06-40a3-ba0f-e8ef7e56a862"
      },
      "execution_count": null,
      "outputs": [
        {
          "output_type": "execute_result",
          "data": {
            "text/plain": [
              "[array([5, 7, 6, 8, 1, 2, 0, 4, 3]),\n",
              " array([1, 4, 5, 7, 3, 2, 0, 6, 8]),\n",
              " array([7, 3, 4, 8, 5, 1, 2, 6, 0]),\n",
              " array([5, 7, 1, 6, 3, 4, 2, 0, 8]),\n",
              " array([8, 4, 5, 1, 0, 2, 7, 6, 3]),\n",
              " array([4, 5, 8, 7, 2, 6, 0, 1, 3]),\n",
              " array([8, 5, 1, 4, 0, 2, 7, 6, 3]),\n",
              " array([3, 5, 7, 1, 0, 6, 2, 8, 4]),\n",
              " array([1, 0, 2, 6, 7, 8, 3, 5, 4]),\n",
              " array([2, 6, 4, 1, 0, 5, 7, 8, 3])]"
            ]
          },
          "metadata": {},
          "execution_count": 17
        }
      ]
    },
    {
      "cell_type": "code",
      "source": [
        "test_cases = [\n",
        "    ((2, 3, 8, 1, 6, 0, 4, 7, 5)),\n",
        "    ((1, 3, 0, 4, 2, 5, 7, 8, 6)),\n",
        "    ((1, 2, 3, 4, 6, 8, 7, 5, 0)),\n",
        "    ((1, 2, 3, 6, 8, 0, 4, 7, 5)),\n",
        "    ((4, 1, 2, 6, 0, 3, 7, 5, 8))\n",
        "    ]\n",
        "\n",
        "def check_heuristics_difference(test_cases):\n",
        "  for test in test_cases:\n",
        "    print(f'manhattan, {test}:   ', astar(test, heuristic_manhattan)[0], '      nodes explored:',len(astar(test, heuristic_manhattan)[1]))\n",
        "    print(f'misplaced, {test}:   ', astar(test, heuristic_misplaced)[0], '      nodes explored:',len(astar(test, heuristic_misplaced)[1]),'\\n')\n",
        "\n",
        "check_heuristics_difference(test_cases)\n",
        "check_heuristics_difference(meow)\n",
        "\n",
        "#Как видно, манхеттенская эвристика из-за того, что она доминимует misplaced-эвристику, изучает либо столько же нодов (для простых кейсов),\n",
        "#либо меньше нодов (для более сложных кейсов). Эта разница может быть достаточно большой -- например, для кейса [7 3 4 8 5 1 2 6 0]\n",
        "#это 319 нода для манхэттенской эвристики и 4941 для misplaced эвристики. Как бы то ни было, все они находят одно и то же решение.\n",
        "#p.s. эта ячейка может выполняться несколько минут"
      ],
      "metadata": {
        "id": "aalzF4kg4A0B",
        "colab": {
          "base_uri": "https://localhost:8080/"
        },
        "outputId": "3ef7c40d-7c06-4135-f825-ecb97bb388a2"
      },
      "execution_count": null,
      "outputs": [
        {
          "output_type": "stream",
          "name": "stdout",
          "text": [
            "manhattan, (2, 3, 8, 1, 6, 0, 4, 7, 5):    ullddrruldr       nodes explored: 12\n",
            "misplaced, (2, 3, 8, 1, 6, 0, 4, 7, 5):    ullddrruldr       nodes explored: 36 \n",
            "\n",
            "manhattan, (1, 3, 0, 4, 2, 5, 7, 8, 6):    ldrd       nodes explored: 5\n",
            "misplaced, (1, 3, 0, 4, 2, 5, 7, 8, 6):    ldrd       nodes explored: 5 \n",
            "\n",
            "manhattan, (1, 2, 3, 4, 6, 8, 7, 5, 0):    uldr       nodes explored: 5\n",
            "misplaced, (1, 2, 3, 4, 6, 8, 7, 5, 0):    uldr       nodes explored: 5 \n",
            "\n",
            "manhattan, (1, 2, 3, 6, 8, 0, 4, 7, 5):    lldrruldr       nodes explored: 12\n",
            "misplaced, (1, 2, 3, 6, 8, 0, 4, 7, 5):    lldrruldr       nodes explored: 30 \n",
            "\n",
            "manhattan, (4, 1, 2, 6, 0, 3, 7, 5, 8):    lurrdldr       nodes explored: 9\n",
            "misplaced, (4, 1, 2, 6, 0, 3, 7, 5, 8):    lurrdldr       nodes explored: 12 \n",
            "\n",
            "manhattan, [5 7 6 8 1 2 0 4 3]:    uruldrdlururddluurdldr       nodes explored: 588\n",
            "misplaced, [5 7 6 8 1 2 0 4 3]:    uruldrdlururddluurdldr       nodes explored: 5482 \n",
            "\n",
            "manhattan, [1 4 5 7 3 2 0 6 8]:    ruurddllurrdluurdd       nodes explored: 323\n",
            "misplaced, [1 4 5 7 3 2 0 6 8]:    ruurddllurrdluurdd       nodes explored: 1105 \n",
            "\n",
            "manhattan, [7 3 4 8 5 1 2 6 0]:    llurrulddluurdrdllurdr       nodes explored: 319\n",
            "misplaced, [7 3 4 8 5 1 2 6 0]:    llurrulddluurdrdllurdr       nodes explored: 4941 \n",
            "\n",
            "manhattan, [5 7 1 6 3 4 2 0 8]:    rulurdldrulldrrullurdldrr       nodes explored: 2968\n",
            "misplaced, [5 7 1 6 3 4 2 0 8]:    rulurdldrulldrrullurdldrr       nodes explored: 20149 \n",
            "\n",
            "manhattan, [8 4 5 1 0 2 7 6 3]:    uldrurddluurdd       nodes explored: 15\n",
            "misplaced, [8 4 5 1 0 2 7 6 3]:    uldrurddluurdd       nodes explored: 168 \n",
            "\n",
            "manhattan, [4 5 8 7 2 6 0 1 3]:    uurddlurrullddrurdluurdd       nodes explored: 1199\n",
            "misplaced, [4 5 8 7 2 6 0 1 3]:    uurddlurrullddrurdluurdd       nodes explored: 13043 \n",
            "\n",
            "manhattan, [8 5 1 4 0 2 7 6 3]:    uldrurddlulurrdd       nodes explored: 42\n",
            "misplaced, [8 5 1 4 0 2 7 6 3]:    uldrurddlulurrdd       nodes explored: 436 \n",
            "\n",
            "manhattan, [3 5 7 1 0 6 2 8 4]:    ldrruulldrrulldrdlurrd       nodes explored: 856\n",
            "misplaced, [3 5 7 1 0 6 2 8 4]:    ldrruulldrrulldrdlurrd       nodes explored: 6242 \n",
            "\n",
            "manhattan, [1 0 2 6 7 8 3 5 4]:    dldrrulldrrulurddluldrr       nodes explored: 1091\n",
            "misplaced, [1 0 2 6 7 8 3 5 4]:    dldrrulldrrulurddluldrr       nodes explored: 9087 \n",
            "\n",
            "manhattan, [2 6 4 1 0 5 7 8 3]:    rdluurdluldrdr       nodes explored: 86\n",
            "misplaced, [2 6 4 1 0 5 7 8 3]:    rdluurdluldrdr       nodes explored: 217 \n",
            "\n"
          ]
        }
      ]
    }
  ],
  "metadata": {
    "kernelspec": {
      "display_name": "airbnb_venv",
      "language": "python",
      "name": "airbnb_venv"
    },
    "language_info": {
      "codemirror_mode": {
        "name": "ipython",
        "version": 3
      },
      "file_extension": ".py",
      "mimetype": "text/x-python",
      "name": "python",
      "nbconvert_exporter": "python",
      "pygments_lexer": "ipython3",
      "version": "3.9.7"
    },
    "colab": {
      "provenance": []
    }
  },
  "nbformat": 4,
  "nbformat_minor": 0
}